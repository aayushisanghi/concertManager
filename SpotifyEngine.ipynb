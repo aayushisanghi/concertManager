{
 "cells": [
  {
   "cell_type": "code",
   "execution_count": 1,
   "id": "0430211f",
   "metadata": {},
   "outputs": [],
   "source": [
    "import spotipy\n",
    "from spotipy.oauth2 import SpotifyClientCredentials\n",
    "from spotipy.oauth2 import SpotifyOAuth\n",
    "import pandas as pd"
   ]
  },
  {
   "cell_type": "code",
   "execution_count": 3,
   "id": "193ab8ae",
   "metadata": {},
   "outputs": [],
   "source": [
    "class Spotify:\n",
    "    \n",
    "    def __init__(self, client_id, client_secret, redirect_uri, username, scope):\n",
    "        \n",
    "        self.client_id = client_id\n",
    "        self.client_secret = client_secret\n",
    "        self.redirect_uri = redirect_uri\n",
    "        self.username = username\n",
    "        self.scope = scope\n",
    "        self.sp_scc = None\n",
    "        self.sp_soa = None\n",
    "        \n",
    "    def connectClientCredentials(self):\n",
    "        auth_manager = SpotifyClientCredentials(client_id=self.client_id, client_secret=self.client_secret)\n",
    "        self.sp_scc = spotipy.Spotify(auth_manager=auth_manager)\n",
    "        \n",
    "    def connectOAuth(self):\n",
    "        auth_manager = SpotifyOAuth(client_id=self.client_id,\n",
    "                            client_secret=self.client_secret,\n",
    "                            redirect_uri=self.redirect_uri,\n",
    "                            username=self.username,\n",
    "                           scope=self.scope)\n",
    "        self.sp_soa = spotipy.Spotify(auth_manager=auth_manager)\n",
    "        \n",
    "    def getArtistID(self, artist):\n",
    "        artist_data = self.sp_scc.search(q='artist:' + artist, type='artist')\n",
    "        artist_id = artist_data['artists']['items'][0]['id']\n",
    "        return artist_id\n",
    "        \n",
    "    def getRelatedArtists(self, target_artist):\n",
    "        if self.sp_scc == None:\n",
    "            self.connectClientCredentials()\n",
    "        \n",
    "        artist_id = self.getArtistID(target_artist)\n",
    "        related_artists = self.sp_scc.artist_related_artists(artist_id)\n",
    "        \n",
    "        related_artist_df = pd.DataFrame(columns=['TargetArtistName', 'TargetArtistSpotifyID', 'RelatedArtistName', 'RelatedArtistSpotifyID'])\n",
    "        \n",
    "        for artist in related_artists['artists']:\n",
    "            related_artist_df = related_artist_df.append(pd.DataFrame([[target_artist, artist_id, artist['name'], artist['id']]], columns=['TargetArtistName', 'TargetArtistSpotifyID', 'RelatedArtistName', 'RelatedArtistSpotifyID']))\n",
    "            \n",
    "        return related_artist_df"
   ]
  }
 ],
 "metadata": {
  "kernelspec": {
   "display_name": "Python 3",
   "language": "python",
   "name": "python3"
  },
  "language_info": {
   "codemirror_mode": {
    "name": "ipython",
    "version": 3
   },
   "file_extension": ".py",
   "mimetype": "text/x-python",
   "name": "python",
   "nbconvert_exporter": "python",
   "pygments_lexer": "ipython3",
   "version": "3.8.8"
  }
 },
 "nbformat": 4,
 "nbformat_minor": 5
}
