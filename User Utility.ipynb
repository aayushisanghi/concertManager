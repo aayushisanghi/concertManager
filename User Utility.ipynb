{
 "cells": [
  {
   "cell_type": "code",
   "execution_count": 1,
   "id": "a994abe2",
   "metadata": {},
   "outputs": [],
   "source": [
    "%run 'SQLEngine.ipynb'"
   ]
  },
  {
   "cell_type": "code",
   "execution_count": 2,
   "id": "b542bb9d",
   "metadata": {},
   "outputs": [],
   "source": [
    "import pandas as pd"
   ]
  },
  {
   "cell_type": "code",
   "execution_count": 3,
   "id": "dec93340",
   "metadata": {},
   "outputs": [],
   "source": [
    "#login info\n",
    "host = \"concertmanager.postgres.database.azure.com\"\n",
    "dbname = \"ConcertManager\"\n",
    "user = \"romitbarua@concertmanager\"\n",
    "password = \"concertManager1234!\"\n",
    "sslmode = \"require\"\n",
    "engine = SQLEngine(host, dbname, user, password, sslmode)"
   ]
  },
  {
   "cell_type": "code",
   "execution_count": 4,
   "id": "9a9d9ed6",
   "metadata": {},
   "outputs": [],
   "source": [
    "username = 'kendricklamar'\n",
    "pwd = 'kendricklamar'\n",
    "cityname = 'Oakland'\n",
    "statename = 'CA'\n",
    "\n",
    "user_df = pd.DataFrame([[username, pwd, cityname, statename]], columns=['username', 'pwd', 'cityname', 'statename'])"
   ]
  },
  {
   "cell_type": "code",
   "execution_count": 5,
   "id": "a761c11b",
   "metadata": {},
   "outputs": [],
   "source": [
    "def uploadUsersRow(row, SQLEngine):\n",
    "    SQLEngine.executeSP('add_users', list(row))\n",
    "    \n",
    "\n",
    "def uploadUsers(user_df, SQLEngine):\n",
    "    user_df.apply(lambda rw:uploadUsersRow(rw, SQLEngine), axis=1)"
   ]
  },
  {
   "cell_type": "code",
   "execution_count": 7,
   "id": "5923bc39",
   "metadata": {},
   "outputs": [],
   "source": [
    "uploadUsers(user_df, engine)"
   ]
  },
  {
   "cell_type": "code",
   "execution_count": 8,
   "id": "c98c870a",
   "metadata": {},
   "outputs": [
    {
     "data": {
      "text/plain": [
       "[(2, 'kendricklamar', 'kendricklamar', 105), (1, 'romitbarua', 'test', 34)]"
      ]
     },
     "execution_count": 8,
     "metadata": {},
     "output_type": "execute_result"
    }
   ],
   "source": [
    "qry = 'select * from users order by uid desc limit 5'\n",
    "engine.query(qry)"
   ]
  }
 ],
 "metadata": {
  "kernelspec": {
   "display_name": "Python 3",
   "language": "python",
   "name": "python3"
  },
  "language_info": {
   "codemirror_mode": {
    "name": "ipython",
    "version": 3
   },
   "file_extension": ".py",
   "mimetype": "text/x-python",
   "name": "python",
   "nbconvert_exporter": "python",
   "pygments_lexer": "ipython3",
   "version": "3.8.8"
  }
 },
 "nbformat": 4,
 "nbformat_minor": 5
}
