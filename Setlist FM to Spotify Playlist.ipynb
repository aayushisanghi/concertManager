{
 "cells": [
  {
   "cell_type": "code",
   "execution_count": 1,
   "id": "2a78b9ac",
   "metadata": {},
   "outputs": [],
   "source": [
    "%run 'SetlistFM Utility.ipynb'"
   ]
  },
  {
   "cell_type": "code",
   "execution_count": 2,
   "id": "4a2dc03d",
   "metadata": {},
   "outputs": [],
   "source": [
    "%run 'SpotifyEngine.ipynb'"
   ]
  },
  {
   "cell_type": "code",
   "execution_count": 3,
   "id": "fc296f18",
   "metadata": {},
   "outputs": [],
   "source": [
    "import requests\n",
    "import json\n",
    "\n",
    "class TicketMaster:\n",
    "    \n",
    "    def __init__(self, api_key, response_type='application/json'):\n",
    "        \n",
    "        self.headers = {'Accept': response_type, 'Content-Type': 'application/json'}\n",
    "    \n",
    "    def getJsonResponse(self, url_base, params):\n",
    "        \n",
    "        response = requests.get(url_base, headers=self.headers, params=params)\n",
    "        return json.loads(response.text)\n",
    "    \n",
    "    def getLocations(self, **params):\n",
    "        \n",
    "        url_base = 'https://app.ticketmaster.com/discovery/v2/events.json?apikey=M81pNFXZAR8GC7mteoDUdALwVk8ly2sI'\n",
    "        json = self.getJsonResponse(url_base, params)\n",
    "        response = []\n",
    "        for event in json[\"_embedded\"][\"events\"]:\n",
    "            response.append(event['name'])\n",
    "        return response"
   ]
  },
  {
   "cell_type": "code",
   "execution_count": 4,
   "id": "6fc792a1",
   "metadata": {},
   "outputs": [],
   "source": [
    "ticketmaster_api = \"M81pNFXZAR8GC7mteoDUdALwVk8ly2sI\"\n",
    "ticketmaster_engine = TicketMaster(ticketmaster_api)"
   ]
  },
  {
   "cell_type": "code",
   "execution_count": 5,
   "id": "f0143bf1",
   "metadata": {},
   "outputs": [
    {
     "data": {
      "text/plain": [
       "['Buffalo Bills vs. Tennessee Titans',\n",
       " 'Seattle Seahawks vs. Denver Broncos',\n",
       " 'Las Vegas Raiders Vs San Francisco 49ers',\n",
       " 'Los Angeles Chargers vs. Las Vegas Raiders',\n",
       " 'Los Angeles Rams vs. Buffalo Bills',\n",
       " 'First Round: Penguins at Rangers Rd 1 Hm Gm 4',\n",
       " 'Los Angeles Dodgers vs. Philadelphia Phillies',\n",
       " 'Dallas Cowboys vs. Tampa Bay Buccaneers',\n",
       " 'PAUL McCARTNEY GOT BACK',\n",
       " 'Cincinnati Bengals vs. Pittsburgh Steelers',\n",
       " 'San Francisco 49ers vs. Seattle Seahawks',\n",
       " 'Buffalo Bills vs. Green Bay Packers',\n",
       " 'Buffalo Bills vs. Pittsburgh Steelers',\n",
       " 'Las Vegas Raiders Vs Arizona Cardinals',\n",
       " 'Minnesota Vikings vs. Green Bay Packers',\n",
       " 'Las Vegas Raiders Vs Denver Broncos',\n",
       " 'PAUL McCARTNEY GOT BACK',\n",
       " 'Denver Broncos vs. San Francisco 49ers',\n",
       " 'Los Angeles Dodgers vs. Arizona Diamondbacks',\n",
       " 'Tampa Bay Rays vs. New York Yankees']"
      ]
     },
     "execution_count": 5,
     "metadata": {},
     "output_type": "execute_result"
    }
   ],
   "source": [
    "ticketmaster_engine.getLocations()"
   ]
  },
  {
   "cell_type": "code",
   "execution_count": 6,
   "id": "2a5f3a1a",
   "metadata": {},
   "outputs": [],
   "source": [
    "api_key='6sG588tuEU67RUqWkqmYD4pBFfh_Avaqqzg0'\n",
    "FMSetlists = FMSetlist(api_key)\n",
    "track_list = FMSetlists.getSetlist(artistName='Kendrick Lamar')"
   ]
  },
  {
   "cell_type": "code",
   "execution_count": 7,
   "id": "26917ae7",
   "metadata": {},
   "outputs": [],
   "source": [
    "client_id = '868cd5aefb524008bee01a4c9b3feba1'\n",
    "client_secret = '50d9e80711934c858057e98af05676d9'\n",
    "redirect_uri = 'http://localhost:8080/callback'\n",
    "username = '1npp6j4y6ynf7jrkvwepadbyk'\n",
    "scope = 'playlist-modify-private'"
   ]
  },
  {
   "cell_type": "code",
   "execution_count": 8,
   "id": "4ff5114a",
   "metadata": {},
   "outputs": [],
   "source": [
    "SpotifyEngine = Spotify(client_id, client_secret, redirect_uri, username, scope)"
   ]
  },
  {
   "cell_type": "code",
   "execution_count": 9,
   "id": "4160fcbd",
   "metadata": {},
   "outputs": [
    {
     "data": {
      "text/plain": [
       "[('Kendrick Lamar', 'm.A.A.d city'), ('Kendrick Lamar', 'Alright')]"
      ]
     },
     "execution_count": 9,
     "metadata": {},
     "output_type": "execute_result"
    }
   ],
   "source": [
    "track_list"
   ]
  },
  {
   "cell_type": "code",
   "execution_count": 10,
   "id": "a3d4a0b7",
   "metadata": {},
   "outputs": [],
   "source": [
    "SpotifyEngine.createPlaylist('Kendrick Playlist', track_list) "
   ]
  }
 ],
 "metadata": {
  "kernelspec": {
   "display_name": "Python 3",
   "language": "python",
   "name": "python3"
  },
  "language_info": {
   "codemirror_mode": {
    "name": "ipython",
    "version": 3
   },
   "file_extension": ".py",
   "mimetype": "text/x-python",
   "name": "python",
   "nbconvert_exporter": "python",
   "pygments_lexer": "ipython3",
   "version": "3.8.8"
  }
 },
 "nbformat": 4,
 "nbformat_minor": 5
}
