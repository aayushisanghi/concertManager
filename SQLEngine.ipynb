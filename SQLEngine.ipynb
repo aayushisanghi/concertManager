{
 "cells": [
  {
   "cell_type": "code",
   "execution_count": 27,
   "id": "2441247f",
   "metadata": {},
   "outputs": [],
   "source": [
    "import pandas as pd"
   ]
  },
  {
   "cell_type": "code",
   "execution_count": 4,
   "id": "fd7586c1",
   "metadata": {},
   "outputs": [
    {
     "name": "stdout",
     "output_type": "stream",
     "text": [
      "Collecting psycopg2-binary\n",
      "  Downloading psycopg2_binary-2.9.3-cp38-cp38-macosx_10_14_x86_64.macosx_10_9_intel.macosx_10_9_x86_64.macosx_10_10_intel.macosx_10_10_x86_64.whl (2.2 MB)\n",
      "     |████████████████████████████████| 2.2 MB 3.3 MB/s            \n",
      "\u001b[?25hInstalling collected packages: psycopg2-binary\n",
      "Successfully installed psycopg2-binary-2.9.3\n",
      "\u001b[33mWARNING: You are using pip version 21.3.1; however, version 22.0.4 is available.\n",
      "You should consider upgrading via the '/Users/romitbarua/opt/anaconda3/bin/python -m pip install --upgrade pip' command.\u001b[0m\n"
     ]
    }
   ],
   "source": [
    "#!pip install psycopg2-binary"
   ]
  },
  {
   "cell_type": "code",
   "execution_count": 5,
   "id": "1247b6a6",
   "metadata": {},
   "outputs": [],
   "source": [
    "import psycopg2"
   ]
  },
  {
   "cell_type": "code",
   "execution_count": 31,
   "id": "c85b40b4",
   "metadata": {},
   "outputs": [
    {
     "data": {
      "text/plain": [
       "[[1, 2, 3], [4, 5, 6]]"
      ]
     },
     "execution_count": 31,
     "metadata": {},
     "output_type": "execute_result"
    }
   ],
   "source": [
    "test = [[1,2,3], [4,5,6]]\n",
    "pdtest = pd.DataFrame(test)\n",
    "pdtest.values.tolist()"
   ]
  },
  {
   "cell_type": "code",
   "execution_count": 53,
   "id": "d13d2fbc",
   "metadata": {},
   "outputs": [],
   "source": [
    "class SQLEngine:\n",
    "    \n",
    "    def __init__(self, host, dbname, user, password, sslmode):\n",
    "        self.host = host\n",
    "        self.dbname = dbname\n",
    "        self.user = user\n",
    "        self.password = password\n",
    "        self.sslmode = sslmode\n",
    "        self.conn_str = \"host={0} user={1} dbname={2} password={3} sslmode={4}\".format(host, user, dbname, password, sslmode)\n",
    "        self.connection = None\n",
    "        self.cursor = None\n",
    "        \n",
    "    def connect(self):\n",
    "        self.connection = psycopg2.connect(conn_string) \n",
    "        self.cursor = self.connection.cursor()\n",
    "        \n",
    "    def closeConnection(self):\n",
    "        self.cursor.close()\n",
    "        self.connection.close()\n",
    "        \n",
    "    def query(self, qry):\n",
    "        self.connect()\n",
    "        self.cursor.execute(qry)\n",
    "        records = self.cursor.fetchall()\n",
    "        self.closeConnection()\n",
    "        return records\n",
    "    \n",
    "    def insert(self, table, cols, data):\n",
    "        \n",
    "        self.connect()\n",
    "        insert_str = 'insert into {table} ({cols}) values {data}'\n",
    "        insert_str = insert_str.replace('{table}', table)\n",
    "        \n",
    "        col_str = ','.join(cols)\n",
    "        insert_str = insert_str.replace('{cols}', col_str)\n",
    "        \n",
    "        rows_lst = []\n",
    "        for row in data.values.tolist():\n",
    "            enquoted_data = []\n",
    "            for item in row:\n",
    "                enquoted_data.append(\"'{}'\".format(item))\n",
    "            row_str = '({})'.format(','.join(enquoted_data))\n",
    "            rows_lst.append(row_str)\n",
    "        data_str = ','.join(rows_lst)\n",
    "        insert_str = insert_str.replace('{data}', data_str)\n",
    "        \n",
    "        self.cursor.execute(insert_str)\n",
    "        self.connection.commit()\n",
    "        \n",
    "        self.closeConnection()\n",
    "        \n",
    "        \n",
    "        \n",
    "        "
   ]
  },
  {
   "cell_type": "code",
   "execution_count": 13,
   "id": "e9a354b3",
   "metadata": {},
   "outputs": [
    {
     "name": "stdout",
     "output_type": "stream",
     "text": [
      "Connection established\n"
     ]
    }
   ],
   "source": [
    "#login info\n",
    "host = \"concertmanager.postgres.database.azure.com\"\n",
    "dbname = \"ConcertManager\"\n",
    "user = \"romitbarua@concertmanager\"\n",
    "password = \"concertManager1234!\"\n",
    "sslmode = \"require\"\n"
   ]
  },
  {
   "cell_type": "code",
   "execution_count": 55,
   "id": "1fcd8fac",
   "metadata": {},
   "outputs": [
    {
     "data": {
      "text/plain": [
       "[(1,), (2,), (5,), (5,)]"
      ]
     },
     "execution_count": 55,
     "metadata": {},
     "output_type": "execute_result"
    }
   ],
   "source": [
    "engine = SQLEngine(host, dbname, user, password, sslmode)\n",
    "qry = 'select * from Test'\n",
    "records = engine.query(qry)\n",
    "records"
   ]
  },
  {
   "cell_type": "code",
   "execution_count": 54,
   "id": "906dae14",
   "metadata": {},
   "outputs": [],
   "source": [
    "engine = SQLEngine(host, dbname, user, password, sslmode)\n",
    "testData = pd.DataFrame([[5], [5]])\n",
    "engine.insert('Test', ['test'], testData)"
   ]
  }
 ],
 "metadata": {
  "kernelspec": {
   "display_name": "Python 3",
   "language": "python",
   "name": "python3"
  },
  "language_info": {
   "codemirror_mode": {
    "name": "ipython",
    "version": 3
   },
   "file_extension": ".py",
   "mimetype": "text/x-python",
   "name": "python",
   "nbconvert_exporter": "python",
   "pygments_lexer": "ipython3",
   "version": "3.8.8"
  }
 },
 "nbformat": 4,
 "nbformat_minor": 5
}
